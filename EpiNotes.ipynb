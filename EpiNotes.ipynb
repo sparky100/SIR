{
 "cells": [
  {
   "cell_type": "code",
   "execution_count": 1,
   "metadata": {},
   "outputs": [],
   "source": [
    "import numpy as np\n",
    "Population=5\n"
   ]
  },
  {
   "cell_type": "code",
   "execution_count": 2,
   "metadata": {},
   "outputs": [],
   "source": [
    "import numpy as np\n",
    "InitialInfected=3"
   ]
  },
  {
   "cell_type": "code",
   "execution_count": 3,
   "metadata": {},
   "outputs": [],
   "source": [
    "\n",
    "SimulationDuration = 120  # assume rates in days\n",
    "MaxNumEvents = 10000\n",
    "MaxRuns = 200\n",
    "RecoveryPeriod = 5  # 5 days to recover\n",
    "InitialInfected = 3"
   ]
  },
  {
   "cell_type": "code",
   "execution_count": 4,
   "metadata": {},
   "outputs": [],
   "source": [
    "R0 = 2\n",
    "Beta = R0 / RecoveryPeriod\n",
    "Gamma = 1. / RecoveryPeriod\n",
    "outb = 0\n",
    "rec = 0\n",
    "peak = 0\n",
    "EndTime: int = 0"
   ]
  },
  {
   "cell_type": "code",
   "execution_count": 5,
   "metadata": {},
   "outputs": [
    {
     "output_type": "execute_result",
     "data": {
      "text/plain": "array([[0, 1, 1, 0, 0],\n       [1, 0, 1, 0, 0],\n       [1, 0, 0, 0, 1],\n       [1, 1, 0, 1, 0],\n       [1, 0, 1, 0, 0]])"
     },
     "metadata": {},
     "execution_count": 5
    }
   ],
   "source": [
    "Adj = np.random.randint (2, size = (Population,Population))  # creates random adjaceny matrix\n",
    "Adj   "
   ]
  },
  {
   "cell_type": "code",
   "execution_count": null,
   "metadata": {},
   "outputs": [],
   "source": []
  },
  {
   "cell_type": "code",
   "execution_count": 6,
   "metadata": {},
   "outputs": [
    {
     "output_type": "execute_result",
     "data": {
      "text/plain": "array([[0, 1, 1, 0, 0],\n       [1, 0, 0, 0, 0],\n       [1, 0, 0, 0, 1],\n       [0, 0, 0, 1, 0],\n       [0, 0, 1, 0, 0]])"
     },
     "metadata": {},
     "execution_count": 6
    }
   ],
   "source": [
    "Adj = Adj.T * Adj # Creates Symmetric Matrix => not uni directional relationship \n",
    "Adj"
   ]
  },
  {
   "cell_type": "code",
   "execution_count": 7,
   "metadata": {},
   "outputs": [],
   "source": [
    "Nodes = np.zeros(Population)\n",
    "        \n",
    "    #Initial conditions\n",
    "Infected=[InitialInfected]\n",
    "Susceptible=[Population-InitialInfected]\n",
    "Recovered=[0]\n",
    "Times =[0]\n",
    "\n",
    "Nodes[0:InitialInfected].fill(2) #Set initial Infected\n",
    "\n"
   ]
  },
  {
   "cell_type": "code",
   "execution_count": 8,
   "metadata": {},
   "outputs": [
    {
     "output_type": "execute_result",
     "data": {
      "text/plain": "array([2., 2., 2., 0., 0.])"
     },
     "metadata": {},
     "execution_count": 8
    }
   ],
   "source": [
    "Nodes    "
   ]
  },
  {
   "cell_type": "code",
   "execution_count": 9,
   "metadata": {},
   "outputs": [
    {
     "output_type": "execute_result",
     "data": {
      "text/plain": "array([2, 1, 1, 2, 2])"
     },
     "metadata": {},
     "execution_count": 9
    }
   ],
   "source": [
    "\n",
    "Nodes[np.where(Nodes==0)]=1 # If Infected Updated Susceptible Flag\n",
    "Nodes=Nodes.astype(int)\n",
    "np.random.shuffle(Nodes) # shuffle infected nodes\n",
    "\n",
    "\n",
    "SimTime = Times[0]\n",
    "NumEvents = 0\n",
    "Nodes"
   ]
  },
  {
   "cell_type": "code",
   "execution_count": 10,
   "metadata": {},
   "outputs": [
    {
     "output_type": "execute_result",
     "data": {
      "text/plain": "array([0. , 0.4, 0.8, 0. , 0. ])"
     },
     "metadata": {},
     "execution_count": 10
    }
   ],
   "source": [
    "Rate1 = Beta*Adj.dot(Nodes==2)*(Nodes==1)\n",
    "Rate1\n"
   ]
  },
  {
   "cell_type": "code",
   "execution_count": 11,
   "metadata": {},
   "outputs": [
    {
     "output_type": "execute_result",
     "data": {
      "text/plain": "array([ True, False, False,  True,  True])"
     },
     "metadata": {},
     "execution_count": 11
    }
   ],
   "source": [
    "(Nodes==2)"
   ]
  },
  {
   "cell_type": "code",
   "execution_count": 12,
   "metadata": {},
   "outputs": [
    {
     "output_type": "execute_result",
     "data": {
      "text/plain": "array([0.2, 0. , 0. , 0.2, 0.2])"
     },
     "metadata": {},
     "execution_count": 12
    }
   ],
   "source": [
    "Rate2 = Gamma * (Nodes==2)\n",
    "Rate2"
   ]
  },
  {
   "cell_type": "code",
   "execution_count": 13,
   "metadata": {},
   "outputs": [
    {
     "output_type": "execute_result",
     "data": {
      "text/plain": "array([[0, 1, 1, 0, 0],\n       [1, 0, 0, 0, 0],\n       [1, 0, 0, 0, 1],\n       [0, 0, 0, 1, 0],\n       [0, 0, 1, 0, 0]])"
     },
     "metadata": {},
     "execution_count": 13
    }
   ],
   "source": [
    "Adj"
   ]
  },
  {
   "cell_type": "code",
   "execution_count": 14,
   "metadata": {},
   "outputs": [
    {
     "output_type": "execute_result",
     "data": {
      "text/plain": "array([2, 1, 1, 2, 2])"
     },
     "metadata": {},
     "execution_count": 14
    }
   ],
   "source": [
    "Nodes"
   ]
  },
  {
   "cell_type": "code",
   "execution_count": 15,
   "metadata": {},
   "outputs": [
    {
     "output_type": "execute_result",
     "data": {
      "text/plain": "0.4"
     },
     "metadata": {},
     "execution_count": 15
    }
   ],
   "source": [
    "Beta"
   ]
  },
  {
   "cell_type": "code",
   "execution_count": null,
   "metadata": {},
   "outputs": [],
   "source": []
  },
  {
   "cell_type": "code",
   "execution_count": 16,
   "metadata": {},
   "outputs": [],
   "source": [
    "        TotalRate = [Rate1, Rate2]\n"
   ]
  },
  {
   "cell_type": "code",
   "execution_count": 17,
   "metadata": {},
   "outputs": [
    {
     "output_type": "execute_result",
     "data": {
      "text/plain": "[array([0. , 0.4, 0.8, 0. , 0. ]), array([0.2, 0. , 0. , 0.2, 0.2])]"
     },
     "metadata": {},
     "execution_count": 17
    }
   ],
   "source": [
    "TotalRate"
   ]
  },
  {
   "cell_type": "code",
   "execution_count": 18,
   "metadata": {},
   "outputs": [
    {
     "output_type": "execute_result",
     "data": {
      "text/plain": "array([0.2, 0. , 0. , 0.2, 0.2])"
     },
     "metadata": {},
     "execution_count": 18
    }
   ],
   "source": [
    "Rate1\n",
    "Rate2"
   ]
  },
  {
   "cell_type": "code",
   "execution_count": 19,
   "metadata": {},
   "outputs": [
    {
     "output_type": "execute_result",
     "data": {
      "text/plain": "array([0.2, 0. , 0. , 0.2, 0.2])"
     },
     "metadata": {},
     "execution_count": 19
    }
   ],
   "source": [
    "Rate2"
   ]
  },
  {
   "cell_type": "code",
   "execution_count": 20,
   "metadata": {},
   "outputs": [
    {
     "output_type": "execute_result",
     "data": {
      "text/plain": "array([0. , 0.4, 0.8, 0. , 0. ])"
     },
     "metadata": {},
     "execution_count": 20
    }
   ],
   "source": [
    "Rate1"
   ]
  },
  {
   "cell_type": "code",
   "execution_count": 21,
   "metadata": {},
   "outputs": [
    {
     "output_type": "execute_result",
     "data": {
      "text/plain": "[array([0. , 0.4, 0.8, 0. , 0. ]), array([0.2, 0. , 0. , 0.2, 0.2])]"
     },
     "metadata": {},
     "execution_count": 21
    }
   ],
   "source": [
    "c=[Rate1,Rate2]\n",
    "c"
   ]
  },
  {
   "cell_type": "code",
   "execution_count": 22,
   "metadata": {},
   "outputs": [
    {
     "output_type": "execute_result",
     "data": {
      "text/plain": "array([0. , 0.4, 0.8, 0. , 0. , 0.2, 0. , 0. , 0.2, 0.2])"
     },
     "metadata": {},
     "execution_count": 22
    }
   ],
   "source": [
    "np.concatenate((Rate1, Rate2))\n"
   ]
  },
  {
   "cell_type": "code",
   "execution_count": 23,
   "metadata": {},
   "outputs": [
    {
     "output_type": "execute_result",
     "data": {
      "text/plain": "1.8000000000000003"
     },
     "metadata": {},
     "execution_count": 23
    }
   ],
   "source": [
    "Alpha0=sum(Rate1)+sum(Rate2)\n",
    "Alpha0"
   ]
  },
  {
   "cell_type": "code",
   "execution_count": 24,
   "metadata": {},
   "outputs": [],
   "source": [
    "import random\n"
   ]
  },
  {
   "cell_type": "code",
   "execution_count": 25,
   "metadata": {},
   "outputs": [
    {
     "output_type": "execute_result",
     "data": {
      "text/plain": "0.2863490413669947"
     },
     "metadata": {},
     "execution_count": 25
    }
   ],
   "source": [
    "SelectEvent = random.random()\n",
    "SelectEvent\n"
   ]
  },
  {
   "cell_type": "code",
   "execution_count": 26,
   "metadata": {},
   "outputs": [
    {
     "output_type": "execute_result",
     "data": {
      "text/plain": "array([0.        , 0.22222222, 0.66666667, 0.66666667, 0.66666667,\n       0.77777778, 0.77777778, 0.77777778, 0.88888889, 1.        ])"
     },
     "metadata": {},
     "execution_count": 26
    }
   ],
   "source": [
    "d=np.cumsum(np.concatenate((Rate1, Rate2)))/Alpha0\n",
    "d"
   ]
  },
  {
   "cell_type": "code",
   "execution_count": 27,
   "metadata": {},
   "outputs": [
    {
     "output_type": "execute_result",
     "data": {
      "text/plain": "0.32869442533609994"
     },
     "metadata": {},
     "execution_count": 27
    }
   ],
   "source": [
    "SelectEvent = random.random()\n",
    "SelectEvent\n"
   ]
  },
  {
   "cell_type": "code",
   "execution_count": 28,
   "metadata": {},
   "outputs": [],
   "source": [
    "EventId=d.searchsorted(SelectEvent)"
   ]
  },
  {
   "cell_type": "code",
   "execution_count": 29,
   "metadata": {},
   "outputs": [],
   "source": [
    "Reaction=EventId // Population\n",
    "Node = (EventId % Population)"
   ]
  },
  {
   "cell_type": "code",
   "execution_count": 30,
   "metadata": {},
   "outputs": [
    {
     "output_type": "execute_result",
     "data": {
      "text/plain": "0"
     },
     "metadata": {},
     "execution_count": 30
    }
   ],
   "source": [
    "Reaction"
   ]
  },
  {
   "cell_type": "code",
   "execution_count": 31,
   "metadata": {},
   "outputs": [
    {
     "output_type": "execute_result",
     "data": {
      "text/plain": "2"
     },
     "metadata": {},
     "execution_count": 31
    }
   ],
   "source": [
    "Node"
   ]
  },
  {
   "cell_type": "code",
   "execution_count": 32,
   "metadata": {},
   "outputs": [],
   "source": [
    "import numpy as np\n",
    "import matplotlib.pyplot as plt\n",
    "import random\n",
    "\n",
    "#\n",
    "# Stocahastic SIR model\n",
    "#\n",
    "# Deterministic\n",
    "# 2 - 80 - 79\n",
    "# 3 - 94  - 94\n",
    "# 4 - 98.6 - 98 Test dfdsf\n",
    "\n",
    "\n",
    "SimulationDuration = 120  # assume rates in days\n",
    "MaxNumEvents = 10000\n",
    "MaxRuns = 200\n",
    "RecoveryPeriod = 5  # 5 days to recover\n",
    "InitialInfected = 3\n",
    "\n",
    "# Scenarios  - #Dictionary of scenarios, population, country name, Ro, RecoveryPeriod\n",
    "\n",
    "scenarios = [{\"Country\": \"Scotland\", \"Population\": 100, \"R0\": 2, \"RecoveryPeriod\": 5}]\n",
    "            "
   ]
  },
  {
   "cell_type": "code",
   "execution_count": 33,
   "metadata": {},
   "outputs": [
    {
     "output_type": "stream",
     "name": "stdout",
     "text": "Scenario- Country Scotland Beta  0.4 Gamma  0.2\n"
    }
   ],
   "source": [
    "for scenario in scenarios:\n",
    "\n",
    "    Population = scenario[\"Population\"]\n",
    "    Country = scenario[\"Country\"]\n",
    "    RecoveryPeriod = scenario[\"RecoveryPeriod\"]\n",
    "    R0 = scenario[\"R0\"]\n",
    "    Beta = R0 / RecoveryPeriod\n",
    "    Gamma = 1. / RecoveryPeriod\n",
    "    InitialInfected = 1\n",
    "    outb = 0\n",
    "    rec = 0\n",
    "    peak = 0\n",
    "    EndTime: int = 0\n",
    "\n",
    "    print(\"Scenario- Country\", Country, \"Beta \", Beta, \"Gamma \", Gamma)\n",
    "\n",
    "    Adj = np.random.randint (2, size = (Population,Population))  # creates random adjaceny matrix\n",
    "    Adj = Adj.T * Adj # Creates Symmetric Matrix => not uni directional relationship    for run in range(1, MaxRuns):\n",
    "        # Zero Arrays\n",
    "\n"
   ]
  },
  {
   "cell_type": "code",
   "execution_count": 34,
   "metadata": {},
   "outputs": [],
   "source": [
    "    Nodes = np.zeros(Population)\n",
    "        \n",
    "    #Initial conditions\n",
    "    Infected=[InitialInfected]\n",
    "    Susceptible=[Population-InitialInfected]\n",
    "    Recovered=[0]\n",
    "    Times =[0]\n",
    "    \n",
    "    Nodes[0:InitialInfected-1].fill(2) #Set initial Infected\n",
    "    \n",
    "    Nodes[np.where(Nodes==0)]=1 # If Infected Updated Susceptible Flag\n",
    "    Nodes=Nodes.astype(int)\n",
    "    np.random.shuffle(Nodes) # shuffle infected nodes\n",
    "    \n",
    "    \n",
    "    SimTime = Times[0]\n",
    "    NumEvents = 0"
   ]
  },
  {
   "cell_type": "code",
   "execution_count": 35,
   "metadata": {},
   "outputs": [
    {
     "output_type": "execute_result",
     "data": {
      "text/plain": "1"
     },
     "metadata": {},
     "execution_count": 35
    }
   ],
   "source": [
    "InitialInfected"
   ]
  },
  {
   "cell_type": "code",
   "execution_count": 36,
   "metadata": {},
   "outputs": [
    {
     "output_type": "execute_result",
     "data": {
      "text/plain": "array([[0, 1, 0, ..., 0, 0, 1],\n       [1, 0, 0, ..., 0, 0, 0],\n       [0, 0, 1, ..., 0, 0, 1],\n       ...,\n       [0, 0, 0, ..., 1, 0, 1],\n       [0, 0, 0, ..., 0, 0, 0],\n       [1, 0, 1, ..., 1, 0, 0]])"
     },
     "metadata": {},
     "execution_count": 36
    }
   ],
   "source": [
    "Adj"
   ]
  },
  {
   "cell_type": "code",
   "execution_count": 37,
   "metadata": {},
   "outputs": [
    {
     "output_type": "execute_result",
     "data": {
      "text/plain": "array([ True,  True,  True,  True,  True,  True,  True,  True,  True,\n        True,  True,  True,  True,  True,  True,  True,  True,  True,\n        True,  True,  True,  True,  True,  True,  True,  True,  True,\n        True,  True,  True,  True,  True,  True,  True,  True,  True,\n        True,  True,  True,  True,  True,  True,  True,  True,  True,\n        True,  True,  True,  True,  True,  True,  True,  True,  True,\n        True,  True,  True,  True,  True,  True,  True,  True,  True,\n        True,  True,  True,  True,  True,  True,  True,  True,  True,\n        True,  True,  True,  True,  True,  True,  True,  True,  True,\n        True,  True,  True,  True,  True,  True,  True,  True,  True,\n        True,  True,  True,  True,  True,  True,  True,  True,  True,\n        True])"
     },
     "metadata": {},
     "execution_count": 37
    }
   ],
   "source": [
    "(Nodes==1)"
   ]
  },
  {
   "cell_type": "code",
   "execution_count": 38,
   "metadata": {},
   "outputs": [
    {
     "output_type": "execute_result",
     "data": {
      "text/plain": "array([False, False, False, False, False, False, False, False, False,\n       False, False, False, False, False, False, False, False, False,\n       False, False, False, False, False, False, False, False, False,\n       False, False, False, False, False, False, False, False, False,\n       False, False, False, False, False, False, False, False, False,\n       False, False, False, False, False, False, False, False, False,\n       False, False, False, False, False, False, False, False, False,\n       False, False, False, False, False, False, False, False, False,\n       False, False, False, False, False, False, False, False, False,\n       False, False, False, False, False, False, False, False, False,\n       False, False, False, False, False, False, False, False, False,\n       False])"
     },
     "metadata": {},
     "execution_count": 38
    }
   ],
   "source": [
    "(Nodes==2)"
   ]
  },
  {
   "cell_type": "code",
   "execution_count": 37,
   "metadata": {},
   "outputs": [
    {
     "output_type": "error",
     "ename": "KeyboardInterrupt",
     "evalue": "",
     "traceback": [
      "\u001b[0;31m---------------------------------------------------------------------------\u001b[0m",
      "\u001b[0;31mKeyboardInterrupt\u001b[0m                         Traceback (most recent call last)",
      "\u001b[0;32m<ipython-input-37-a4cc9e84df9e>\u001b[0m in \u001b[0;36m<module>\u001b[0;34m\u001b[0m\n\u001b[1;32m      1\u001b[0m \u001b[0;32mwhile\u001b[0m \u001b[0;34m(\u001b[0m\u001b[0mSimTime\u001b[0m \u001b[0;34m<\u001b[0m \u001b[0mSimulationDuration\u001b[0m \u001b[0;32mand\u001b[0m \u001b[0mNumEvents\u001b[0m \u001b[0;34m<\u001b[0m \u001b[0mMaxNumEvents\u001b[0m \u001b[0;32mand\u001b[0m \u001b[0mInfected\u001b[0m\u001b[0;34m[\u001b[0m\u001b[0mNumEvents\u001b[0m\u001b[0;34m]\u001b[0m \u001b[0;34m>\u001b[0m \u001b[0;36m0\u001b[0m\u001b[0;34m)\u001b[0m\u001b[0;34m:\u001b[0m\u001b[0;34m\u001b[0m\u001b[0;34m\u001b[0m\u001b[0m\n\u001b[1;32m      2\u001b[0m \u001b[0;34m\u001b[0m\u001b[0m\n\u001b[0;32m----> 3\u001b[0;31m         \u001b[0mRate1\u001b[0m \u001b[0;34m=\u001b[0m \u001b[0mBeta\u001b[0m\u001b[0;34m*\u001b[0m\u001b[0mAdj\u001b[0m\u001b[0;34m.\u001b[0m\u001b[0mdot\u001b[0m\u001b[0;34m(\u001b[0m\u001b[0mNodes\u001b[0m\u001b[0;34m==\u001b[0m\u001b[0;36m2\u001b[0m\u001b[0;34m)\u001b[0m\u001b[0;34m*\u001b[0m\u001b[0;34m(\u001b[0m\u001b[0mNodes\u001b[0m\u001b[0;34m==\u001b[0m\u001b[0;36m1\u001b[0m\u001b[0;34m)\u001b[0m\u001b[0;34m/\u001b[0m\u001b[0mPopulation\u001b[0m\u001b[0;34m\u001b[0m\u001b[0;34m\u001b[0m\u001b[0m\n\u001b[0m\u001b[1;32m      4\u001b[0m \u001b[0;34m\u001b[0m\u001b[0m\n\u001b[1;32m      5\u001b[0m         \u001b[0mRate2\u001b[0m \u001b[0;34m=\u001b[0m \u001b[0mGamma\u001b[0m \u001b[0;34m*\u001b[0m \u001b[0;34m(\u001b[0m\u001b[0mNodes\u001b[0m\u001b[0;34m==\u001b[0m\u001b[0;36m2\u001b[0m\u001b[0;34m)\u001b[0m\u001b[0;34m\u001b[0m\u001b[0;34m\u001b[0m\u001b[0m\n",
      "\u001b[0;31mKeyboardInterrupt\u001b[0m: "
     ]
    }
   ],
   "source": [
    "while (SimTime < SimulationDuration and NumEvents < MaxNumEvents and Infected[NumEvents] > 0):\n",
    "\n",
    "        Rate1 = Beta*Adj.dot(Nodes==2)*(Nodes==1)/Population\n",
    "\n",
    "        Rate2 = Gamma * (Nodes==2)\n"
   ]
  },
  {
   "cell_type": "code",
   "execution_count": null,
   "metadata": {},
   "outputs": [],
   "source": [
    "Rate1"
   ]
  },
  {
   "cell_type": "code",
   "execution_count": null,
   "metadata": {},
   "outputs": [],
   "source": [
    "Beta"
   ]
  },
  {
   "cell_type": "code",
   "execution_count": null,
   "metadata": {},
   "outputs": [],
   "source": [
    "Nodes"
   ]
  },
  {
   "cell_type": "code",
   "execution_count": null,
   "metadata": {},
   "outputs": [],
   "source": [
    "Beta"
   ]
  },
  {
   "cell_type": "code",
   "execution_count": null,
   "metadata": {},
   "outputs": [],
   "source": []
  },
  {
   "cell_type": "code",
   "execution_count": 22,
   "metadata": {},
   "outputs": [
    {
     "output_type": "execute_result",
     "data": {
      "text/plain": "3"
     },
     "metadata": {},
     "execution_count": 22
    }
   ],
   "source": [
    "Infected[0]"
   ]
  },
  {
   "cell_type": "code",
   "execution_count": null,
   "metadata": {},
   "outputs": [],
   "source": []
  }
 ],
 "metadata": {
  "language_info": {
   "codemirror_mode": {
    "name": "ipython",
    "version": 3
   },
   "file_extension": ".py",
   "mimetype": "text/x-python",
   "name": "python",
   "nbconvert_exporter": "python",
   "pygments_lexer": "ipython3",
   "version": "3.8.2-final"
  },
  "orig_nbformat": 2,
  "kernelspec": {
   "name": "python38264bit4bf64de742e143ccbb025e54dbc2408c",
   "display_name": "Python 3.8.2 64-bit"
  }
 },
 "nbformat": 4,
 "nbformat_minor": 2
}