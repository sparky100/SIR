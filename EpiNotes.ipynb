{
 "cells": [
  {
   "cell_type": "code",
   "execution_count": 90,
   "metadata": {},
   "outputs": [],
   "source": [
    "import numpy as np\n",
    "import matplotlib.pyplot as plt\n",
    "import random\n",
    "import pandas as pd\n",
    "import networkx as nx\n",
    "InitialInfected=5\n",
    "\n",
    "Population=10\n",
    "Adj = np.random.randint (2, size = (Population,Population))  # creates random adjaceny matrix\n",
    "Adj = Adj.T * Adj \n",
    "Adj.fill(1) # set connections between all\n",
    "beta=0.2    \n",
    "Nodes = np.zeros(Population)"
   ]
  },
  {
   "cell_type": "code",
   "execution_count": 91,
   "metadata": {},
   "outputs": [],
   "source": [
    "Nodes[0:InitialInfected].fill(2) #Set initial Infected\n",
    "Nodes[np.where(Nodes==0)]=1 # If Infected Updated Susceptible Flag\n",
    "Nodes=Nodes.astype(int)\n",
    "np.random.shuffle(Nodes) # shuffle infected nodes"
   ]
  },
  {
   "cell_type": "code",
   "execution_count": 92,
   "metadata": {},
   "outputs": [],
   "source": [
    "G = nx.Graph()"
   ]
  },
  {
   "cell_type": "code",
   "execution_count": 93,
   "metadata": {},
   "outputs": [],
   "source": [
    "Adj = np.random.randint (2, size = (Population,Population))  # creates random adjaceny matrix\n",
    "Adj = Adj.T * Adj # C"
   ]
  },
  {
   "cell_type": "code",
   "execution_count": 94,
   "metadata": {},
   "outputs": [
    {
     "output_type": "execute_result",
     "data": {
      "text/plain": "[4, 4, 4, 10, 10, 10, 10, 10, 20, 20]"
     },
     "metadata": {},
     "execution_count": 94
    }
   ],
   "source": [
    "Low=4\n",
    "Medium=10\n",
    "High=20\n",
    "\n",
    "LowProp = .3\n",
    "MedProp = .50\n",
    "HighProp = .2\n",
    "\n",
    "LowNum = int(Population*LowProp)\n",
    "MedNum = int(Population*MedProp)\n",
    "HighNum = int(Population*HighProp)\n",
    "\n",
    "configmatrix=[Low]*LowNum + [Medium]*MedNum + [High]*HighNum\n",
    "configmatrix"
   ]
  },
  {
   "cell_type": "code",
   "execution_count": 95,
   "metadata": {},
   "outputs": [
    {
     "output_type": "execute_result",
     "data": {
      "text/plain": "10"
     },
     "metadata": {},
     "execution_count": 95
    }
   ],
   "source": [
    "cm=np.array(configmatrix)\n",
    "np.random.shuffle(cm)\n",
    "\n",
    "G=nx.configuration_model(cm) # Create graph from configuration model\n",
    "G=nx.Graph(G)\n",
    "G.number_of_nodes()"
   ]
  },
  {
   "cell_type": "code",
   "execution_count": 103,
   "metadata": {},
   "outputs": [
    {
     "output_type": "execute_result",
     "data": {
      "text/plain": "array([[0., 1., 1., 0., 1., 0., 1., 0., 1., 1.],\n       [1., 0., 1., 1., 1., 0., 0., 1., 0., 0.],\n       [1., 1., 1., 0., 1., 1., 0., 1., 0., 1.],\n       [0., 1., 0., 0., 0., 1., 0., 1., 1., 0.],\n       [1., 1., 1., 0., 1., 1., 1., 1., 0., 1.],\n       [0., 0., 1., 1., 1., 0., 0., 0., 1., 0.],\n       [1., 0., 0., 0., 1., 0., 0., 0., 0., 1.],\n       [0., 1., 1., 1., 1., 0., 0., 1., 1., 1.],\n       [1., 0., 0., 1., 0., 1., 0., 1., 0., 0.],\n       [1., 0., 1., 0., 1., 0., 1., 1., 0., 0.]])"
     },
     "metadata": {},
     "execution_count": 103
    }
   ],
   "source": [
    "Adj2 = nx.to_numpy_array(G) #Generates Adjaceny matrix from graph\n",
    "Adj2"
   ]
  },
  {
   "cell_type": "code",
   "execution_count": 104,
   "metadata": {},
   "outputs": [],
   "source": [
    "Beta=0.2"
   ]
  },
  {
   "cell_type": "code",
   "execution_count": 106,
   "metadata": {},
   "outputs": [],
   "source": [
    "Rate1 = Beta*Adj2.dot(Nodes==2)*(Nodes==1)/Population"
   ]
  },
  {
   "cell_type": "code",
   "execution_count": 99,
   "metadata": {},
   "outputs": [
    {
     "output_type": "execute_result",
     "data": {
      "text/plain": "array([0.  , 0.06, 0.02, 0.02, 0.02, 0.  , 0.  , 0.04, 0.  , 0.  ])"
     },
     "metadata": {},
     "execution_count": 99
    }
   ],
   "source": [
    "Rate1"
   ]
  },
  {
   "cell_type": "code",
   "execution_count": 100,
   "metadata": {},
   "outputs": [
    {
     "output_type": "execute_result",
     "data": {
      "text/plain": "array([[0, 0, 0, 1, 1, 0, 0, 0, 0, 0],\n       [0, 0, 0, 0, 1, 0, 0, 0, 0, 0],\n       [0, 0, 0, 0, 1, 0, 0, 0, 1, 0],\n       [1, 0, 0, 0, 1, 0, 1, 0, 0, 0],\n       [1, 1, 1, 1, 1, 1, 0, 1, 1, 0],\n       [0, 0, 0, 0, 1, 0, 0, 0, 0, 0],\n       [0, 0, 0, 1, 0, 0, 1, 0, 0, 0],\n       [0, 0, 0, 0, 1, 0, 0, 1, 0, 0],\n       [0, 0, 1, 0, 1, 0, 0, 0, 0, 1],\n       [0, 0, 0, 0, 0, 0, 0, 0, 1, 1]])"
     },
     "metadata": {},
     "execution_count": 100
    }
   ],
   "source": [
    "Adj"
   ]
  },
  {
   "cell_type": "code",
   "execution_count": 101,
   "metadata": {},
   "outputs": [
    {
     "output_type": "execute_result",
     "data": {
      "text/plain": "matrix([[0., 1., 1., 0., 1., 0., 1., 0., 1., 1.],\n        [1., 0., 1., 1., 1., 0., 0., 1., 0., 0.],\n        [1., 1., 1., 0., 1., 1., 0., 1., 0., 1.],\n        [0., 1., 0., 0., 0., 1., 0., 1., 1., 0.],\n        [1., 1., 1., 0., 1., 1., 1., 1., 0., 1.],\n        [0., 0., 1., 1., 1., 0., 0., 0., 1., 0.],\n        [1., 0., 0., 0., 1., 0., 0., 0., 0., 1.],\n        [0., 1., 1., 1., 1., 0., 0., 1., 1., 1.],\n        [1., 0., 0., 1., 0., 1., 0., 1., 0., 0.],\n        [1., 0., 1., 0., 1., 0., 1., 1., 0., 0.]])"
     },
     "metadata": {},
     "execution_count": 101
    }
   ],
   "source": [
    "Adj2"
   ]
  },
  {
   "cell_type": "code",
   "execution_count": null,
   "metadata": {},
   "outputs": [],
   "source": []
  }
 ],
 "metadata": {
  "language_info": {
   "codemirror_mode": {
    "name": "ipython",
    "version": 3
   },
   "file_extension": ".py",
   "mimetype": "text/x-python",
   "name": "python",
   "nbconvert_exporter": "python",
   "pygments_lexer": "ipython3",
   "version": "3.8.2-final"
  },
  "orig_nbformat": 2,
  "kernelspec": {
   "name": "python38264bit4bf64de742e143ccbb025e54dbc2408c",
   "display_name": "Python 3.8.2 64-bit"
  }
 },
 "nbformat": 4,
 "nbformat_minor": 2
}