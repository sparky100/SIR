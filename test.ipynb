{
 "cells": [
  {
   "cell_type": "code",
   "execution_count": 13,
   "metadata": {},
   "outputs": [],
   "source": [
    "import numpy as np\n",
    "import matplotlib.pyplot as plt\n",
    "import random\n",
    "import pandas as pd\n",
    "import networkx as nx\n",
    "#\n",
    "# Stocahastic SIR model\n",
    "#\n",
    "# Deterministic\n",
    "# 2 - 80 - 79\n",
    "# 3 - 94  - 94\n",
    "# 4 - 98.6 - 98 Test dfdsf\n",
    "\n",
    "\n",
    "#Set up graph\n"
   ]
  },
  {
   "cell_type": "code",
   "execution_count": 14,
   "metadata": {},
   "outputs": [],
   "source": [
    "Population=10\n"
   ]
  },
  {
   "cell_type": "code",
   "execution_count": 15,
   "metadata": {},
   "outputs": [],
   "source": [
    "Adj = np.random.randint (2, size = (Population,Population))  # creates random adjaceny matrix\n",
    "Adj = Adj.T * Adj # Creates Symmetric Matrix => not uni directional relationship    for run in range(1, MaxRuns):\n",
    "        # Zero Arrays\n"
   ]
  },
  {
   "cell_type": "code",
   "execution_count": 16,
   "metadata": {},
   "outputs": [
    {
     "output_type": "execute_result",
     "data": {
      "text/plain": "array([[0, 0, 0, 0, 0, 0, 0, 0, 0, 0],\n       [0, 0, 1, 0, 0, 0, 0, 0, 0, 0],\n       [0, 1, 0, 0, 0, 0, 0, 1, 1, 0],\n       [0, 0, 0, 0, 0, 0, 0, 0, 0, 0],\n       [0, 0, 0, 0, 1, 0, 0, 0, 1, 0],\n       [0, 0, 0, 0, 0, 1, 0, 0, 1, 1],\n       [0, 0, 0, 0, 0, 0, 1, 0, 0, 1],\n       [0, 0, 1, 0, 0, 0, 0, 0, 1, 1],\n       [0, 0, 1, 0, 1, 1, 0, 1, 1, 0],\n       [0, 0, 0, 0, 0, 1, 1, 1, 0, 0]])"
     },
     "metadata": {},
     "execution_count": 16
    }
   ],
   "source": [
    "Adj"
   ]
  },
  {
   "cell_type": "code",
   "execution_count": 17,
   "metadata": {},
   "outputs": [],
   "source": [
    "G = nx.from_numpy_matrix(Adj)"
   ]
  },
  {
   "cell_type": "code",
   "execution_count": 18,
   "metadata": {},
   "outputs": [
    {
     "output_type": "execute_result",
     "data": {
      "text/plain": "<networkx.classes.graph.Graph at 0x7fb7f5707e20>"
     },
     "metadata": {},
     "execution_count": 18
    }
   ],
   "source": [
    "G"
   ]
  },
  {
   "cell_type": "code",
   "execution_count": 19,
   "metadata": {},
   "outputs": [
    {
     "output_type": "execute_result",
     "data": {
      "text/plain": "<bound method Graph.adjacency of <networkx.classes.graph.Graph object at 0x7fb7f5707e20>>"
     },
     "metadata": {},
     "execution_count": 19
    }
   ],
   "source": [
    "G.adjacency"
   ]
  },
  {
   "cell_type": "code",
   "execution_count": 20,
   "metadata": {},
   "outputs": [
    {
     "output_type": "execute_result",
     "data": {
      "text/plain": "NodeView((0, 1, 2, 3, 4, 5, 6, 7, 8, 9))"
     },
     "metadata": {},
     "execution_count": 20
    }
   ],
   "source": [
    "G.nodes"
   ]
  },
  {
   "cell_type": "code",
   "execution_count": 25,
   "metadata": {},
   "outputs": [
    {
     "output_type": "execute_result",
     "data": {
      "text/plain": "EdgeDataView([(1, 2)])"
     },
     "metadata": {},
     "execution_count": 25
    }
   ],
   "source": [
    "G.edges(1)"
   ]
  },
  {
   "cell_type": "code",
   "execution_count": 22,
   "metadata": {},
   "outputs": [],
   "source": [
    "nx.set_node_attributes(G, [\"Infected\"], name=\"Status\")"
   ]
  },
  {
   "cell_type": "code",
   "execution_count": 28,
   "metadata": {},
   "outputs": [
    {
     "output_type": "execute_result",
     "data": {
      "text/plain": "{0: ['Infected'],\n 1: ['Infected'],\n 2: ['Infected'],\n 3: ['Infected'],\n 4: ['Infected'],\n 5: ['Infected'],\n 6: ['Infected'],\n 7: ['Infected'],\n 8: ['Infected'],\n 9: ['Infected']}"
     },
     "metadata": {},
     "execution_count": 28
    }
   ],
   "source": [
    "nx.get_node_attributes(G,\"Status\")"
   ]
  },
  {
   "cell_type": "code",
   "execution_count": null,
   "metadata": {},
   "outputs": [],
   "source": []
  }
 ],
 "metadata": {
  "language_info": {
   "codemirror_mode": {
    "name": "ipython",
    "version": 3
   },
   "file_extension": ".py",
   "mimetype": "text/x-python",
   "name": "python",
   "nbconvert_exporter": "python",
   "pygments_lexer": "ipython3",
   "version": "3.8.2-final"
  },
  "orig_nbformat": 2,
  "kernelspec": {
   "name": "python38264bit4bf64de742e143ccbb025e54dbc2408c",
   "display_name": "Python 3.8.2 64-bit"
  }
 },
 "nbformat": 4,
 "nbformat_minor": 2
}